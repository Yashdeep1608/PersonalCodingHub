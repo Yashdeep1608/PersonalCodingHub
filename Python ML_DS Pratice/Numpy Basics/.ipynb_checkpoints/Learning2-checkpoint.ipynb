{
 "cells": [
  {
   "cell_type": "markdown",
   "id": "d08c667f-c84a-4eb8-ab6d-4fca449e1d26",
   "metadata": {},
   "source": [
    "# Python - Numpy"
   ]
  },
  {
   "cell_type": "code",
   "execution_count": 1,
   "id": "a7dbfa2e-dda5-4aff-ac62-cf14be94c137",
   "metadata": {},
   "outputs": [],
   "source": [
    "import numpy as np\n",
    "import sys"
   ]
  },
  {
   "cell_type": "markdown",
   "id": "1350b431-ed0c-49c7-a385-890fce36dba6",
   "metadata": {},
   "source": [
    "#### Basic"
   ]
  },
  {
   "cell_type": "code",
   "execution_count": 5,
   "id": "57a5a93f-99a4-4093-a374-98c054209d42",
   "metadata": {},
   "outputs": [
    {
     "name": "stdout",
     "output_type": "stream",
     "text": [
      "A =>  [1 2 3 4]\n",
      "B =>  [[1. 2. 3. 4.]\n",
      " [5. 6. 7. 8.]]\n",
      "AD =>  1\n",
      "BD =>  2\n",
      "(4,)\n",
      "(2, 4)\n",
      "8 8\n",
      "int64 float64\n",
      "4 8\n"
     ]
    }
   ],
   "source": [
    "a = np.array([1,2,3,4])\n",
    "b = np.array([[1.0,2.0,3.0,4.0],[5.0,6.0,7.0,8.0]])\n",
    "\n",
    "print(\"A => \",a)\n",
    "print(\"B => \",b)\n",
    "\n",
    "print(\"AD => \", a.ndim)\n",
    "print(\"BD => \", b.ndim)\n",
    "\n",
    "print(a.shape)\n",
    "print(b.shape)\n",
    "print(a.itemsize,b.itemsize)\n",
    "print(a.dtype,b.dtype)\n",
    "print(a.size,b.size)"
   ]
  },
  {
   "cell_type": "markdown",
   "id": "32b5ac77-45c6-4d1c-916d-207bcee3a8df",
   "metadata": {},
   "source": [
    "#### Implement Methods of Numbpy"
   ]
  },
  {
   "cell_type": "code",
   "execution_count": 4,
   "id": "2987b338-bb71-442b-b7bd-f8b96695d8a2",
   "metadata": {},
   "outputs": [
    {
     "name": "stdout",
     "output_type": "stream",
     "text": [
      "[[ 1  2  3  4  5  6  7]\n",
      " [ 8  9 10 11 12 13 14]]\n"
     ]
    }
   ],
   "source": [
    "c = np.array([[1,2,3,4,5,6,7],[8,9,10,11,12,13,14]])\n",
    "print(c)"
   ]
  },
  {
   "cell_type": "code",
   "execution_count": 9,
   "id": "a5d4509e-0aea-4ed1-bf1f-4da170b469ea",
   "metadata": {},
   "outputs": [
    {
     "name": "stdout",
     "output_type": "stream",
     "text": [
      "Zero Matrix =>  [[0. 0. 0.]\n",
      " [0. 0. 0.]]\n",
      "Ones Matrix =>  [[1. 1.]\n",
      " [1. 1.]\n",
      " [1. 1.]]\n",
      "Empty Matrix =>  [[3.5e-323 3.5e-323]\n",
      " [3.5e-323 3.5e-323]]\n",
      "Full Matrix =>  [[7 7]\n",
      " [7 7]]\n",
      "Identity Matrix =>  [[1. 0. 0.]\n",
      " [0. 1. 0.]\n",
      " [0. 0. 1.]]\n"
     ]
    }
   ],
   "source": [
    "zeros = np.zeros((2, 3))    # 2x3 array of zeros\n",
    "ones = np.ones((3, 2))      # 3x2 array of ones\n",
    "empty = np.empty((2, 2))    # 2x2 uninitialized array\n",
    "full = np.full((2, 2), 7)   # 2x2 array filled with 7\n",
    "identity = np.eye(3)        # 3x3 identity matrix\n",
    "\n",
    "print(\"Zero Matrix => \",zeros)\n",
    "print(\"Ones Matrix => \",ones)\n",
    "print(\"Empty Matrix => \",empty)\n",
    "print(\"Full Matrix => \",full)\n",
    "print(\"Identity Matrix => \",identity)"
   ]
  },
  {
   "cell_type": "code",
   "execution_count": 27,
   "id": "23088b7e-9916-487c-a2e7-f21e556727ea",
   "metadata": {},
   "outputs": [
    {
     "name": "stdout",
     "output_type": "stream",
     "text": [
      "Arraged Array =>  [0 2 4 6 8]\n",
      "Line Array =>  [0.   0.25 0.5  0.75 1.  ]\n",
      "Random Array =>  [[0.98077071 0.63159106 0.72944055 0.85353975 0.85225924]\n",
      " [0.31603571 0.01176377 0.14699477 0.72874935 0.32254718]]\n",
      "[1 3]\n",
      "[5. 7.]\n"
     ]
    }
   ],
   "source": [
    "arange_array = np.arange(0, 10, 2)  # Array of [0, 2, 4, 6, 8]\n",
    "linspace_array = np.linspace(0, 1, 5)  # 5 values evenly spaced between 0 and 1\n",
    "random_array = np.random.random((2, 5))  # 2x2 array of random values between 0 and 1\n",
    "\n",
    "print(\"Arraged Array => \", arange_array)\n",
    "print(\"Line Array => \",linspace_array)\n",
    "print(\"Random Array => \",random_array)\n",
    "#Array Slicing (startIndex:endIndex:stepIndex)\n",
    "print(a[0:-1:2])\n",
    "print(b[1,0:-1:2])"
   ]
  },
  {
   "cell_type": "code",
   "execution_count": 30,
   "id": "bceacbd0-4a31-4d8c-aef8-9704c9be427f",
   "metadata": {},
   "outputs": [
    {
     "name": "stdout",
     "output_type": "stream",
     "text": [
      "[5 7 9]\n",
      "[-3 -3 -3]\n",
      "[ 4 10 18]\n",
      "[0.25 0.4  0.5 ]\n",
      "[0.84147098 0.90929743 0.14112001]\n",
      "[1.         1.41421356 1.73205081]\n"
     ]
    }
   ],
   "source": [
    "a = np.array([1, 2, 3])\n",
    "b = np.array([4, 5, 6])\n",
    "\n",
    "print(a + b)\n",
    "print(a - b)  \n",
    "print(a * b)  \n",
    "print(a / b) \n",
    "print(np.sin(a))  \n",
    "print(np.sqrt(a))\n"
   ]
  },
  {
   "cell_type": "code",
   "execution_count": 31,
   "id": "055a17fb-d378-47cc-889e-700daa55220b",
   "metadata": {},
   "outputs": [
    {
     "name": "stdout",
     "output_type": "stream",
     "text": [
      "[[19 22]\n",
      " [43 50]]\n",
      "[[1 3]\n",
      " [2 4]]\n"
     ]
    }
   ],
   "source": [
    "A = np.array([[1, 2], [3, 4]])\n",
    "B = np.array([[5, 6], [7, 8]])\n",
    "\n",
    "print(np.dot(A, B))  # Matrix multiplication\n",
    "print(A.T)           # Transpose\n"
   ]
  },
  {
   "cell_type": "code",
   "execution_count": 32,
   "id": "bb289b2c-19d0-4eba-938d-f04a98f0940b",
   "metadata": {},
   "outputs": [
    {
     "name": "stdout",
     "output_type": "stream",
     "text": [
      "1\n",
      "5\n",
      "3\n",
      "[2 3 4]\n",
      "[2 5]\n",
      "[3 4 5]\n"
     ]
    }
   ],
   "source": [
    "arr = np.array([1, 2, 3, 4, 5])\n",
    "print(arr[0])    \n",
    "print(arr[-1])\n",
    "matrix = np.array([[1, 2, 3], [4, 5, 6]])\n",
    "print(matrix[0, 2]) \n",
    "print(arr[1:4])  \n",
    "print(matrix[:, 1])\n",
    "print(arr[arr > 2])\n",
    "\n",
    "\n"
   ]
  },
  {
   "cell_type": "code",
   "execution_count": 33,
   "id": "6be1a407-be51-4c52-a023-a028fb44134b",
   "metadata": {},
   "outputs": [
    {
     "name": "stdout",
     "output_type": "stream",
     "text": [
      "[[1 2 3]\n",
      " [4 5 6]]\n",
      "[1 2 3 4 5 6]\n"
     ]
    }
   ],
   "source": [
    "arr = np.array([1, 2, 3, 4, 5, 6])\n",
    "reshaped = arr.reshape((2, 3))\n",
    "print(reshaped)\n",
    "flat = reshaped.flatten()\n",
    "print(flat)"
   ]
  },
  {
   "cell_type": "code",
   "execution_count": 36,
   "id": "a17fe99f-b959-486c-afd0-c2764c495250",
   "metadata": {},
   "outputs": [
    {
     "name": "stdout",
     "output_type": "stream",
     "text": [
      "[1 2 3 4]\n",
      "VS =>  [[1 2]\n",
      " [3 4]\n",
      " [5 6]]\n",
      "HS =>  [[1 2 5]\n",
      " [3 4 6]]\n"
     ]
    }
   ],
   "source": [
    "a = np.array([1, 2])\n",
    "b = np.array([3, 4])\n",
    "print(np.concatenate((a, b)))  # Output: [1 2 3 4]\n",
    "\n",
    "matrix1 = np.array([[1, 2], [3, 4]])\n",
    "matrix2 = np.array([[5, 6]])\n",
    "\n",
    "print(\"VS => \",np.vstack((matrix1, matrix2)))  # Vertically stack arrays\n",
    "print(\"HS => \",np.hstack((matrix1, matrix2.T))) # Horizontally stack arrays\n"
   ]
  },
  {
   "cell_type": "code",
   "execution_count": 38,
   "id": "c4f2e74e-97a1-4feb-b9d6-c1395d61ccdf",
   "metadata": {},
   "outputs": [
    {
     "name": "stdout",
     "output_type": "stream",
     "text": [
      "[0 1 2 3 4 5 6 7 8]\n",
      "[array([0, 1, 2]), array([3, 4, 5]), array([6, 7, 8])]\n"
     ]
    }
   ],
   "source": [
    "arr = np.arange(9)\n",
    "print(arr)\n",
    "print(np.split(arr, 3))"
   ]
  },
  {
   "cell_type": "code",
   "execution_count": 41,
   "id": "edb991c7-f6a1-4ed9-918f-b6ece5f8e61a",
   "metadata": {},
   "outputs": [
    {
     "name": "stdout",
     "output_type": "stream",
     "text": [
      "Date =>  [[0.82678917 0.25234028 0.31524489 0.26034187 0.38746353]\n",
      " [0.91419478 0.14058933 0.75256516 0.41553157 0.09800159]\n",
      " [0.79511841 0.16696097 0.58613744 0.95989741 0.77385021]\n",
      " [0.78109165 0.38081934 0.59357283 0.78881969 0.32758022]\n",
      " [0.95688203 0.87583931 0.05424749 0.06272936 0.98280808]]\n",
      "Mean =>  [0.85481521 0.36330984 0.46035356 0.49746398 0.51394073]\n"
     ]
    }
   ],
   "source": [
    "data = np.random.random((5, 5))\n",
    "mean = data.mean(axis=0)\n",
    "print(\"Date => \",data)\n",
    "print(\"Mean => \",mean)"
   ]
  },
  {
   "cell_type": "code",
   "execution_count": 42,
   "id": "a1191d97-2657-4756-ba6b-a5cbbf0abbee",
   "metadata": {},
   "outputs": [
    {
     "name": "stdout",
     "output_type": "stream",
     "text": [
      "[ 2.71828183  7.3890561  20.08553692]\n",
      "[0.         0.69314718 1.09861229]\n",
      "[1.         1.41421356 1.73205081]\n"
     ]
    }
   ],
   "source": [
    "arr = np.array([1, 2, 3])\n",
    "print(np.exp(arr))   # Exponential: [2.71828183 7.3890561  20.08553692]\n",
    "print(np.log(arr))   # Natural Logarithm: [0.         0.69314718 1.09861229]\n",
    "print(np.sqrt(arr))  # Square Root: [1.         1.41421356 1.73205081]\n"
   ]
  },
  {
   "cell_type": "code",
   "execution_count": 46,
   "id": "f0a5567b-d188-456a-88b1-4b48c7640238",
   "metadata": {},
   "outputs": [
    {
     "name": "stdout",
     "output_type": "stream",
     "text": [
      "[1 -- --]\n"
     ]
    }
   ],
   "source": [
    "masked_array = np.ma.array([1, 2, 3], mask=[False, True, True])\n",
    "print(masked_array)\n"
   ]
  },
  {
   "cell_type": "code",
   "execution_count": 48,
   "id": "88ac6710-dc47-4547-8f38-3c3634f5f931",
   "metadata": {},
   "outputs": [
    {
     "name": "stdout",
     "output_type": "stream",
     "text": [
      "[[-2.   1. ]\n",
      " [ 1.5 -0.5]]\n",
      "EigResult(eigenvalues=array([-0.37228132,  5.37228132]), eigenvectors=array([[-0.82456484, -0.41597356],\n",
      "       [ 0.56576746, -0.90937671]]))\n"
     ]
    }
   ],
   "source": [
    "from numpy.linalg import inv, eig\n",
    "\n",
    "A = np.array([[1, 2], [3, 4]])\n",
    "print(inv(A))  \n",
    "print(eig(A))"
   ]
  },
  {
   "cell_type": "code",
   "execution_count": 50,
   "id": "1546b340-3c7e-4d25-8618-56df407e4868",
   "metadata": {},
   "outputs": [
    {
     "name": "stdout",
     "output_type": "stream",
     "text": [
      "          A         B         C         D\n",
      "0  0.763051  0.636144  0.254163  0.775012\n",
      "1  0.442946  0.229377  0.935064  0.625339\n",
      "2  0.067868  0.774885  0.757515  0.201304\n",
      "3  0.433812  0.584208  0.590499  0.194581\n",
      "4  0.192940  0.886360  0.392441  0.879243\n"
     ]
    }
   ],
   "source": [
    "import pandas as pd\n",
    "\n",
    "data = pd.DataFrame(np.random.random((5, 4)), columns=list('ABCD'))\n",
    "print(data)\n"
   ]
  },
  {
   "cell_type": "markdown",
   "id": "b51746a8-de5c-4edf-a3ae-0c6b92836286",
   "metadata": {},
   "source": [
    "#### Benifits of Numpy\n",
    "###### 1.Performance: NumPy operations are executed in C, making them much faster than native Python code.\n",
    "###### 2.Memory Efficiency: NumPy arrays require less memory compared to lists, especially when storing large datasets.\n",
    "###### 3.Convenience: It offers a wide range of mathematical, logical, shape manipulation, sorting, selecting, I/O, and other utility functions.\n",
    "###### 4.Integration: NumPy arrays integrate well with other libraries like pandas, matplotlib, scikit-learn, and more."
   ]
  },
  {
   "cell_type": "markdown",
   "id": "dfbcc2a3-c445-497d-b620-efad41064988",
   "metadata": {},
   "source": [
    "##### Comparison With List\n",
    "\n",
    "###### 1.Speed: NumPy arrays are faster because they use contiguous memory blocks.\n",
    "###### 2.Memory Efficiency: NumPy arrays use less memory due to uniform data types.\n",
    "###### 3.Functionality: NumPy provides a vast number of operations that are not available with lists.\n",
    "###### 4.Vectorization: NumPy supports vectorized operations, enabling the application of operations on entire arrays without loops, leading to more concise and readable code."
   ]
  },
  {
   "cell_type": "code",
   "execution_count": 52,
   "id": "99318ba1-5fe8-4934-8530-23c035d0a90a",
   "metadata": {},
   "outputs": [
    {
     "name": "stdout",
     "output_type": "stream",
     "text": [
      "List time: 0.10699248313903809 seconds\n",
      "NumPy time: 0.020001649856567383 seconds\n"
     ]
    }
   ],
   "source": [
    "import time\n",
    "\n",
    "size = 1000000\n",
    "\n",
    "# Using List\n",
    "L1 = list(range(size))\n",
    "L2 = list(range(size))\n",
    "start = time.time()\n",
    "result = [(x + y) for x, y in zip(L1, L2)]\n",
    "print(f\"List time: {(time.time() - start)} seconds\")\n",
    "\n",
    "# Using NumPy\n",
    "A1 = np.arange(size)\n",
    "A2 = np.arange(size)\n",
    "start = time.time()\n",
    "result = A1 + A2\n",
    "print(f\"NumPy time: {(time.time() - start)} seconds\")\n"
   ]
  },
  {
   "cell_type": "code",
   "execution_count": null,
   "id": "a23c8898-3495-49c0-a76f-8512d3596f91",
   "metadata": {},
   "outputs": [],
   "source": []
  }
 ],
 "metadata": {
  "kernelspec": {
   "display_name": "Python 3 (ipykernel)",
   "language": "python",
   "name": "python3"
  },
  "language_info": {
   "codemirror_mode": {
    "name": "ipython",
    "version": 3
   },
   "file_extension": ".py",
   "mimetype": "text/x-python",
   "name": "python",
   "nbconvert_exporter": "python",
   "pygments_lexer": "ipython3",
   "version": "3.12.4"
  }
 },
 "nbformat": 4,
 "nbformat_minor": 5
}
