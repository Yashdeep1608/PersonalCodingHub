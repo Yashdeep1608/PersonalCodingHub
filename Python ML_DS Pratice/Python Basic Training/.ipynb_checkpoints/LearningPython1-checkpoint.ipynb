{
 "cells": [
  {
   "cell_type": "markdown",
   "id": "1523eada-0f80-4d84-b6a6-666a301e5ff8",
   "metadata": {},
   "source": [
    "## Python Basic"
   ]
  },
  {
   "cell_type": "code",
   "execution_count": 6,
   "id": "27adf720-a2d2-4f5c-9469-6f56a6bff078",
   "metadata": {},
   "outputs": [
    {
     "name": "stdout",
     "output_type": "stream",
     "text": [
      "xxxxx\n"
     ]
    }
   ],
   "source": [
    "print(\"xxxxx\")"
   ]
  },
  {
   "cell_type": "code",
   "execution_count": 7,
   "id": "55a85b68-6e0c-4182-9722-aaed05a8a379",
   "metadata": {},
   "outputs": [],
   "source": [
    "name = \"Yashdeep\"\n",
    "age = 22\n",
    "is_male = True"
   ]
  },
  {
   "cell_type": "code",
   "execution_count": 8,
   "id": "aa8737ab-1008-4af9-9c22-47254aae9e2b",
   "metadata": {},
   "outputs": [
    {
     "name": "stdout",
     "output_type": "stream",
     "text": [
      "Yashdeep\n",
      "22\n",
      "True\n"
     ]
    }
   ],
   "source": [
    "print(name)\n",
    "print(age)\n",
    "print(is_male)"
   ]
  },
  {
   "cell_type": "code",
   "execution_count": 9,
   "id": "f2416d2c-5730-42cf-bff8-3ac6bd7727f9",
   "metadata": {},
   "outputs": [],
   "source": [
    "string1 = \"Yashdeep is Great\""
   ]
  },
  {
   "cell_type": "code",
   "execution_count": 13,
   "id": "2ddfd458-149c-402c-92a4-c31129b9abc3",
   "metadata": {},
   "outputs": [
    {
     "name": "stdout",
     "output_type": "stream",
     "text": [
      "YASHDEEP IS GREAT\n",
      "False\n",
      "True\n",
      "Length of string =>  17\n",
      "Y\n",
      "12\n",
      "Yashdeep is Goat\n"
     ]
    }
   ],
   "source": [
    "print(string1.upper())\n",
    "print(string1.isupper())\n",
    "print(string1.upper().isupper())\n",
    "print(\"Length of string => \",len(string1))\n",
    "print(string1[0])\n",
    "print(string1.index(\"Gre\"))\n",
    "print(string1.replace(\"Gre\",\"Go\"))"
   ]
  },
  {
   "cell_type": "code",
   "execution_count": 17,
   "id": "476f63c0-cf42-47cf-b5a8-26050522275f",
   "metadata": {},
   "outputs": [],
   "source": [
    "from math import *\n",
    "number = 69\n",
    "number2 = -69\n",
    "number3 = 69.69"
   ]
  },
  {
   "cell_type": "code",
   "execution_count": 19,
   "id": "a284c938-58af-4a26-84d8-06449ea4ca4f",
   "metadata": {},
   "outputs": [
    {
     "name": "stdout",
     "output_type": "stream",
     "text": [
      "Number =>  69\n",
      "Number  => 69\n",
      "Number Abs =>  69\n",
      "Number Abs of float =>  69.69\n",
      "Powers =>  49.0 27.0\n",
      "Max Number =>  69\n",
      "Min Number =>  -69\n",
      "Round Number =>  70\n",
      "Floor Number =>  69\n",
      "Ceil Number 70\n",
      "Square Root of Number =>  6.0\n"
     ]
    }
   ],
   "source": [
    "print(\"Number => \", number)\n",
    "print(\"Number  => \" +str(number))\n",
    "print(\"Number Abs => \",abs(number2))\n",
    "print(\"Number Abs of float => \",abs(number3))\n",
    "print( \"Powers => \",pow(7,2),pow(3,3))\n",
    "print(\"Max Number => \" ,max(number,number2))\n",
    "print(\"Min Number => \",min(number2,number3))\n",
    "print(\"Round Number => \",round(number3))\n",
    "print(\"Floor Number => \",floor(number3))\n",
    "print(\"Ceil Number\",ceil(number3))\n",
    "print(\"Square Root of Number => \",sqrt(36))"
   ]
  },
  {
   "cell_type": "code",
   "execution_count": 20,
   "id": "ed8944d9-6b4b-443e-a2b4-365b0ddd39fe",
   "metadata": {},
   "outputs": [
    {
     "name": "stdin",
     "output_type": "stream",
     "text": [
      "Enter Your Name:  Yashdeep\n",
      "Enter Your Age:  25\n",
      "Enter your Height:  78\n"
     ]
    }
   ],
   "source": [
    "name = input(\"Enter Your Name: \")\n",
    "age = int(input(\"Enter Your Age: \"))\n",
    "height = float(input(\"Enter your Height: \"))"
   ]
  },
  {
   "cell_type": "code",
   "execution_count": 21,
   "id": "35b46b6f-c3c8-4798-9b7a-c15d09ee9440",
   "metadata": {},
   "outputs": [
    {
     "name": "stdin",
     "output_type": "stream",
     "text": [
      "Enter your name and age separated by a space:  Yashdeep 25\n"
     ]
    },
    {
     "name": "stdout",
     "output_type": "stream",
     "text": [
      "Name: Yashdeep, Age: 25\n"
     ]
    }
   ],
   "source": [
    "data = input(\"Enter your name and age separated by a space: \").split()\n",
    "name, age = data[0], int(data[1])\n",
    "print(f\"Name: {name}, Age: {age}\")\n"
   ]
  },
  {
   "cell_type": "code",
   "execution_count": 22,
   "id": "014ad1ef-d0f1-40ae-b18c-084c77914d4c",
   "metadata": {},
   "outputs": [
    {
     "name": "stdin",
     "output_type": "stream",
     "text": [
      "Enter three numbers separated by space:  1 2 3\n"
     ]
    },
    {
     "name": "stdout",
     "output_type": "stream",
     "text": [
      "Numbers: [1, 2, 3]\n"
     ]
    }
   ],
   "source": [
    "numbers = [int(x) for x in input(\"Enter three numbers separated by space: \").split()]\n",
    "print(f\"Numbers: {numbers}\")"
   ]
  },
  {
   "cell_type": "code",
   "execution_count": 23,
   "id": "8ba4afa7-447c-41ca-90ef-4c31ec958cb5",
   "metadata": {},
   "outputs": [
    {
     "name": "stdin",
     "output_type": "stream",
     "text": [
      "Enter your name, age, and height separated by commas:  Yashdeep,25,5.11\n"
     ]
    },
    {
     "name": "stdout",
     "output_type": "stream",
     "text": [
      "Name: Yashdeep, Age: 25, Height: 5.11\n"
     ]
    }
   ],
   "source": [
    "data = input(\"Enter your name, age, and height separated by commas: \").split(',')\n",
    "name, age, height = data[0], int(data[1]), float(data[2])\n",
    "print(f\"Name: {name}, Age: {age}, Height: {height}\")"
   ]
  },
  {
   "cell_type": "code",
   "execution_count": 24,
   "id": "b51ce7d0-f5b6-4dde-b9d7-b3e8bf866a31",
   "metadata": {},
   "outputs": [
    {
     "name": "stdout",
     "output_type": "stream",
     "text": [
      "Your name is Yashdeep\n"
     ]
    }
   ],
   "source": [
    "import tkinter as tk\n",
    "from tkinter import simpledialog\n",
    "\n",
    "root = tk.Tk()\n",
    "root.withdraw()  # Hide the main window\n",
    "\n",
    "user_input = simpledialog.askstring(\"Input\", \"Enter your name:\")\n",
    "print(f\"Your name is {user_input}\")\n"
   ]
  },
  {
   "cell_type": "code",
   "execution_count": 25,
   "id": "fcdb4f47-80d5-4808-99a6-9b6a13e47327",
   "metadata": {},
   "outputs": [
    {
     "name": "stdin",
     "output_type": "stream",
     "text": [
      "Enter your email:  yash\n"
     ]
    },
    {
     "name": "stdout",
     "output_type": "stream",
     "text": [
      "Invalid email. Try again.\n"
     ]
    },
    {
     "name": "stdin",
     "output_type": "stream",
     "text": [
      "Enter your email:  yashdeep@cloveritservices.com\n"
     ]
    },
    {
     "name": "stdout",
     "output_type": "stream",
     "text": [
      "Valid email.\n"
     ]
    }
   ],
   "source": [
    "import re\n",
    "\n",
    "while True:\n",
    "    email = input(\"Enter your email: \")\n",
    "    if re.match(r\"[^@]+@[^@]+\\.[^@]+\", email):\n",
    "        print(\"Valid email.\")\n",
    "        break\n",
    "    else:\n",
    "        print(\"Invalid email. Try again.\")\n"
   ]
  },
  {
   "cell_type": "code",
   "execution_count": 27,
   "id": "375c3c32-3a11-4396-9cf6-a79ec5ed0148",
   "metadata": {},
   "outputs": [
    {
     "name": "stdin",
     "output_type": "stream",
     "text": [
      "Enter your password:  ········\n"
     ]
    },
    {
     "name": "stdout",
     "output_type": "stream",
     "text": [
      "Password entered: yashdeep\n"
     ]
    }
   ],
   "source": [
    "from getpass import getpass\n",
    "\n",
    "password = getpass(\"Enter your password: \")\n",
    "print(f\"Password entered: {password}\")\n"
   ]
  },
  {
   "cell_type": "code",
   "execution_count": 33,
   "id": "473731a1-61d7-4908-888c-e3e4787ce677",
   "metadata": {},
   "outputs": [
    {
     "name": "stdin",
     "output_type": "stream",
     "text": [
      "Enter the two number with , seperated 4,5\n"
     ]
    },
    {
     "name": "stdout",
     "output_type": "stream",
     "text": [
      "You have these operations select one of them '1:+','2:-','3:x','4:/','5:%'\n"
     ]
    },
    {
     "name": "stdin",
     "output_type": "stream",
     "text": [
      "Enter operation:  x\n"
     ]
    },
    {
     "name": "stdout",
     "output_type": "stream",
     "text": [
      "20.0\n"
     ]
    }
   ],
   "source": [
    "nums = input(\"Enter the two number with , seperated\").split(',')\n",
    "print(\"You have these operations select one of them '1:+','2:-','3:x','4:/','5:%'\")\n",
    "op = input(\"Enter operation: \")\n",
    "if(op == '+'):\n",
    "     print(float(nums[0])+float(nums[1]))\n",
    "if(op == '-'):\n",
    "     print(float(nums[0])-float(nums[1]))\n",
    "if(op == 'x'):\n",
    "     print(float(nums[0])*float(nums[1]))\n",
    "if(op == '/'):\n",
    "     print(float(nums[0])/float(nums[1]))\n",
    "if(op == '%'):\n",
    "     print(float(nums[0])%float(nums[1]))"
   ]
  },
  {
   "cell_type": "code",
   "execution_count": 34,
   "id": "2357385c-297c-4658-9aae-b12727f1f478",
   "metadata": {},
   "outputs": [
    {
     "name": "stdout",
     "output_type": "stream",
     "text": [
      "['apple', 'banana', 'cherry']\n"
     ]
    }
   ],
   "source": [
    "fruits = [\"apple\", \"banana\", \"cherry\"]"
   ]
  },
  {
   "cell_type": "code",
   "execution_count": 36,
   "id": "680eeeb0-aadc-45f9-a4ee-e6644e2279db",
   "metadata": {},
   "outputs": [
    {
     "name": "stdout",
     "output_type": "stream",
     "text": [
      "['apple', 'banana', 'cherry']\n",
      "apple\n",
      "banana\n",
      "['apple', 'blueberry', 'cherry']\n",
      "['apple', 'blueberry', 'berry']\n",
      "True\n",
      "False\n"
     ]
    }
   ],
   "source": [
    "print(fruits)\n",
    "print(fruits[0])\n",
    "print(fruits[1])\n",
    "fruits[1] = \"blueberry\"\n",
    "print(fruits)\n",
    "fruits.append(\"berry\")\n",
    "fruits.remove(\"cherry\")\n",
    "print(fruits)\n",
    "print(\"apple\" in fruits)\n",
    "print(\"lola\" in fruits)"
   ]
  },
  {
   "cell_type": "code",
   "execution_count": 41,
   "id": "a33889c5-a047-480f-8178-c528212084b8",
   "metadata": {},
   "outputs": [
    {
     "name": "stdout",
     "output_type": "stream",
     "text": [
      "[1, 4, 9, 16, 25, 36, 49, 64, 81]\n",
      "1\n",
      "[4, 9, 16, 25]\n",
      "[1, 4, 9, 16, 25, 36, 49, 64]\n",
      "[81]\n",
      "[81, 64, 49, 36, 25, 16, 9, 4, 1]\n",
      "[1, 4, 9, 16, 25, 36, 49, 64, 81]\n",
      "[1, 4, 9, 16, 25, 36, 49, 64, 81]\n",
      "[1, 4, 9, 16, 25, 36, 49, 64, 81, 100, 121]\n"
     ]
    }
   ],
   "source": [
    "sqrs = [x**2 for x in range(1,10)]\n",
    "print(sqrs)\n",
    "print(sqrs[0])\n",
    "print(sqrs[1:5])\n",
    "print(sqrs[:-1])\n",
    "print(sqrs[-1:])\n",
    "sqrs.reverse()\n",
    "print(sqrs)\n",
    "sqrs.sort()\n",
    "print(sqrs)\n",
    "sqrs_copy = sqrs.copy()\n",
    "print(sqrs_copy)\n",
    "sqrs_copy += [100,121]\n",
    "print(sqrs_copy)\n"
   ]
  },
  {
   "cell_type": "code",
   "execution_count": 42,
   "id": "102c158b-4ea3-415f-ab78-ea1947d9e009",
   "metadata": {},
   "outputs": [
    {
     "name": "stdout",
     "output_type": "stream",
     "text": [
      "6\n"
     ]
    }
   ],
   "source": [
    "matrix = [\n",
    "    [1, 2, 3],\n",
    "    [4, 5, 6],\n",
    "    [7, 8, 9]\n",
    "]\n",
    "print(matrix[1][2])\n"
   ]
  },
  {
   "cell_type": "code",
   "execution_count": 43,
   "id": "79db8050-4f91-42b1-96fc-472758013c2a",
   "metadata": {},
   "outputs": [
    {
     "name": "stdout",
     "output_type": "stream",
     "text": [
      "[1, 4, 9, 16, 25]\n",
      "[2, 4]\n"
     ]
    }
   ],
   "source": [
    "numbers = [1, 2, 3, 4, 5]\n",
    "squared_numbers = list(map(lambda x: x**2, numbers))\n",
    "print(squared_numbers)\n",
    "\n",
    "even_numbers = list(filter(lambda x: x % 2 == 0, numbers))\n",
    "print(even_numbers)\n"
   ]
  },
  {
   "cell_type": "code",
   "execution_count": 44,
   "id": "3340c018-41a8-46ea-892c-2c6cd255ee63",
   "metadata": {},
   "outputs": [
    {
     "name": "stdout",
     "output_type": "stream",
     "text": [
      "120\n"
     ]
    }
   ],
   "source": [
    "from functools import reduce\n",
    "\n",
    "product = reduce(lambda x, y: x * y, numbers)\n",
    "print(product)\n"
   ]
  },
  {
   "cell_type": "code",
   "execution_count": 45,
   "id": "0e9827e0-b0e2-47f3-bbc9-877f8d9497b3",
   "metadata": {},
   "outputs": [
    {
     "name": "stdout",
     "output_type": "stream",
     "text": [
      "3\n",
      "[1, 2]\n"
     ]
    }
   ],
   "source": [
    "stack = []\n",
    "stack.append(1)\n",
    "stack.append(2)\n",
    "stack.append(3)\n",
    "print(stack.pop())\n",
    "print(stack)"
   ]
  },
  {
   "cell_type": "code",
   "execution_count": 46,
   "id": "5f4208f6-7d3d-4491-acfb-fea8891f289a",
   "metadata": {},
   "outputs": [
    {
     "name": "stdout",
     "output_type": "stream",
     "text": [
      "1\n",
      "deque([2, 3, 4])\n"
     ]
    }
   ],
   "source": [
    "from collections import deque\n",
    "\n",
    "queue = deque([1, 2, 3])\n",
    "queue.append(4)\n",
    "print(queue.popleft()) \n",
    "print(queue)\n"
   ]
  },
  {
   "cell_type": "code",
   "execution_count": 50,
   "id": "90bde04b-53d5-4c17-9f14-280b32aa1aff",
   "metadata": {},
   "outputs": [
    {
     "name": "stdout",
     "output_type": "stream",
     "text": [
      "(5, 4)\n",
      "5\n"
     ]
    }
   ],
   "source": [
    "tup = (5,4)\n",
    "print(tup)\n",
    "print(tup[0])\n",
    "tup[0] = 5"
   ]
  },
  {
   "cell_type": "code",
   "execution_count": 58,
   "id": "2a477a90-e281-45b5-bfb3-d83915894762",
   "metadata": {},
   "outputs": [
    {
     "data": {
      "text/plain": [
       "125"
      ]
     },
     "execution_count": 58,
     "metadata": {},
     "output_type": "execute_result"
    }
   ],
   "source": [
    "def cube_number(n):\n",
    "    return n*n*n\n",
    "cube_number(5)"
   ]
  },
  {
   "cell_type": "code",
   "execution_count": 62,
   "id": "e0322ad7-d55a-4e14-9dbd-1a0e3e4ec92e",
   "metadata": {},
   "outputs": [
    {
     "name": "stdout",
     "output_type": "stream",
     "text": [
      "Saini\n"
     ]
    }
   ],
   "source": [
    "if True and not(True):\n",
    "    print(\"Yashdeep\")\n",
    "elif True or not(True):\n",
    "    print(\"Saini\")\n",
    "else:\n",
    "    print(\"Yashdeep Saini\")"
   ]
  },
  {
   "cell_type": "code",
   "execution_count": 65,
   "id": "67c1c566-f22d-4fca-a9e2-2c4723cc635a",
   "metadata": {},
   "outputs": [
    {
     "data": {
      "text/plain": [
       "69"
      ]
     },
     "execution_count": 65,
     "metadata": {},
     "output_type": "execute_result"
    }
   ],
   "source": [
    "def max_three_number(n1,n2,n3):\n",
    "    mx = 0\n",
    "    list = [n1,n2,n3]\n",
    "    for i in list:\n",
    "        if(i>mx):\n",
    "            mx = i\n",
    "    return mx\n",
    "\n",
    "max_three_number(69,24,33)\n",
    "        "
   ]
  },
  {
   "cell_type": "code",
   "execution_count": 66,
   "id": "f4136550-5320-4824-a273-fec979a9c532",
   "metadata": {},
   "outputs": [
    {
     "name": "stdout",
     "output_type": "stream",
     "text": [
      "{'name': 'Alice', 'age': 25, 'city': 'New York'}\n",
      "Alice\n",
      "25\n",
      "New York\n",
      "{'name': 'Alice', 'age': 25, 'city': 'Jaipur'}\n",
      "{'name': 'Alice', 'age': 25, 'city': 'Jaipur', 'email': 'test@test.com'}\n",
      "{'name': 'Alice', 'age': 25, 'email': 'test@test.com'}\n"
     ]
    }
   ],
   "source": [
    "person = {\"name\": \"Alice\", \"age\": 25, \"city\": \"New York\"}\n",
    "print(person)\n",
    "print(person[\"name\"])\n",
    "print(person[\"age\"])\n",
    "print(person[\"city\"])\n",
    "person[\"city\"] = \"Jaipur\"\n",
    "print(person)\n",
    "person[\"email\"] = \"test@test.com\"\n",
    "print(person)\n",
    "del person[\"city\"]\n",
    "print(person)"
   ]
  },
  {
   "cell_type": "code",
   "execution_count": 68,
   "id": "ceb8daed-c2b8-4832-90f9-f60980c45a58",
   "metadata": {},
   "outputs": [
    {
     "name": "stdout",
     "output_type": "stream",
     "text": [
      "Key =>  name\n",
      "Key =>  age\n",
      "Key =>  email\n",
      "Value =>  Alice\n",
      "Value =>  25\n",
      "Value =>  test@test.com\n",
      "Key Value Pair name: Alice\n",
      "Key Value Pair age: 25\n",
      "Key Value Pair email: test@test.com\n"
     ]
    }
   ],
   "source": [
    "for key in person:\n",
    "    print(\"Key => \",key)\n",
    "for value in person.values():\n",
    "    print(\"Value => \",value)\n",
    "for key, value in person.items():\n",
    "    print(f\"Key Value Pair {key}: {value}\")\n"
   ]
  },
  {
   "cell_type": "code",
   "execution_count": 69,
   "id": "02b56414-b84c-4211-b563-daaf7dba5233",
   "metadata": {},
   "outputs": [
    {
     "name": "stdout",
     "output_type": "stream",
     "text": [
      "25\n",
      "Unknown\n"
     ]
    }
   ],
   "source": [
    "age = person.get(\"age\", 0)\n",
    "print(age)\n",
    "city = person.get(\"city\", \"Unknown\")\n",
    "print(city)\n"
   ]
  },
  {
   "cell_type": "code",
   "execution_count": 70,
   "id": "5292546e-efe3-4e7a-b061-4fa9d513b31a",
   "metadata": {},
   "outputs": [
    {
     "name": "stdout",
     "output_type": "stream",
     "text": [
      "{'name': 'Alice', 'age': 25, 'email': 'test@test.com', 'city': 'Boston', 'phone': '123-456-7890'}\n"
     ]
    }
   ],
   "source": [
    "person.update({\"city\": \"Boston\", \"phone\": \"123-456-7890\"})\n",
    "print(person)\n"
   ]
  },
  {
   "cell_type": "code",
   "execution_count": 71,
   "id": "78004c7f-266d-4de2-b158-fcce4467b750",
   "metadata": {},
   "outputs": [
    {
     "name": "stdout",
     "output_type": "stream",
     "text": [
      "{0: 0, 1: 1, 2: 4, 3: 9, 4: 16}\n"
     ]
    }
   ],
   "source": [
    "squares = {x: x**2 for x in range(5)}\n",
    "print(squares)\n"
   ]
  },
  {
   "cell_type": "code",
   "execution_count": 72,
   "id": "ec5c34b7-745b-41c2-a293-06282ac327b4",
   "metadata": {},
   "outputs": [
    {
     "name": "stdout",
     "output_type": "stream",
     "text": [
      "Alice\n"
     ]
    }
   ],
   "source": [
    "people = {\n",
    "    \"person1\": {\"name\": \"Alice\", \"age\": 25},\n",
    "    \"person2\": {\"name\": \"Bob\", \"age\": 30}\n",
    "}\n",
    "print(people[\"person1\"][\"name\"])\n"
   ]
  },
  {
   "cell_type": "code",
   "execution_count": 73,
   "id": "ed41c326-0c2a-4f5b-b990-fd3176b3ab83",
   "metadata": {},
   "outputs": [
    {
     "name": "stdout",
     "output_type": "stream",
     "text": [
      "defaultdict(<class 'list'>, {'fruits': ['apple', 'banana']})\n"
     ]
    }
   ],
   "source": [
    "from collections import defaultdict\n",
    "\n",
    "dd = defaultdict(list)\n",
    "dd[\"fruits\"].append(\"apple\")\n",
    "dd[\"fruits\"].append(\"banana\")\n",
    "print(dd)\n"
   ]
  },
  {
   "cell_type": "code",
   "execution_count": 76,
   "id": "c48a7331-89c3-4070-b9c2-32f72d75f715",
   "metadata": {},
   "outputs": [
    {
     "name": "stdout",
     "output_type": "stream",
     "text": [
      "Counter({'apple': 3, 'banana': 2, 'orange': 1})\n"
     ]
    }
   ],
   "source": [
    "from collections import Counter\n",
    "\n",
    "counts = Counter([\"apple\", \"banana\", \"apple\", \"orange\", \"banana\", \"apple\"])\n",
    "print(counts)"
   ]
  },
  {
   "cell_type": "code",
   "execution_count": 79,
   "id": "53c580e8-b051-4c7d-9b32-39080ce52e9a",
   "metadata": {},
   "outputs": [
    {
     "name": "stdout",
     "output_type": "stream",
     "text": [
      "OrderedDict({'second': 4, 'third': 2, 'first': 3})\n"
     ]
    }
   ],
   "source": [
    "from collections import OrderedDict\n",
    "\n",
    "od = OrderedDict()\n",
    "od[\"second\"] = 4\n",
    "od[\"third\"] = 2\n",
    "od[\"first\"] = 3\n",
    "print(od) \n"
   ]
  },
  {
   "cell_type": "code",
   "execution_count": 84,
   "id": "52228b84-7c91-4fe2-ae6f-69b9acf04854",
   "metadata": {},
   "outputs": [
    {
     "name": "stdin",
     "output_type": "stream",
     "text": [
      "Enter the word from One Piece:  Zoro\n",
      "Enter the word from One Piece:  Sanjhi\n",
      "Enter the word from One Piece:  Nami\n",
      "Enter the word from One Piece:  Robin\n",
      "Enter the word from One Piece:  Ussop\n"
     ]
    },
    {
     "name": "stdout",
     "output_type": "stream",
     "text": [
      "Losser\n"
     ]
    }
   ],
   "source": [
    "correct_word = \"Luffy\"\n",
    "guss_count = 5\n",
    "out_of_limit = False\n",
    "gussed_word = \"\"\n",
    "isWin = False\n",
    "while gussed_word != correct_word and guss_count>0:\n",
    "    gussed_word = input(\"Enter the word from One Piece: \")\n",
    "    guss_count -= 1\n",
    "    if(guss_count == 0):\n",
    "        out_of_limit = True\n",
    "    if(gussed_word == correct_word):\n",
    "        isWin = True\n",
    "\n",
    "if(isWin):\n",
    "    print(\"Winner\")\n",
    "\n",
    "else:\n",
    "    print(\"Losser\")"
   ]
  },
  {
   "cell_type": "code",
   "execution_count": 89,
   "id": "f2b89e60-6e27-4238-b381-26b3ddb87fd3",
   "metadata": {},
   "outputs": [
    {
     "name": "stdout",
     "output_type": "stream",
     "text": [
      "1 2 3 4 5 6 7 8 9 "
     ]
    }
   ],
   "source": [
    "for i in range(len(matrix)):\n",
    "    for j in range(len(matrix[i])):\n",
    "        print(matrix[i][j],end=\" \")\n",
    "    "
   ]
  },
  {
   "cell_type": "code",
   "execution_count": 90,
   "id": "b20ca0be-da3a-49b9-ab38-f529e7246be4",
   "metadata": {},
   "outputs": [
    {
     "name": "stdout",
     "output_type": "stream",
     "text": [
      "Error: Cannot divide by zero.\n"
     ]
    }
   ],
   "source": [
    "try:\n",
    "    numerator = 10\n",
    "    denominator = 0\n",
    "    result = numerator / denominator\n",
    "    print(\"Result:\", result)\n",
    "except ZeroDivisionError:\n",
    "    print(\"Error: Cannot divide by zero.\")\n"
   ]
  },
  {
   "cell_type": "code",
   "execution_count": 93,
   "id": "efb28a77-396b-4c09-9671-999318af1374",
   "metadata": {},
   "outputs": [
    {
     "name": "stdin",
     "output_type": "stream",
     "text": [
      "Enter a number:  \n"
     ]
    },
    {
     "name": "stdout",
     "output_type": "stream",
     "text": [
      "Error: That was not a valid number.\n"
     ]
    }
   ],
   "source": [
    "try:\n",
    "    number = int(input(\"Enter a number: \"))\n",
    "    print(\"The number you entered is:\", number)\n",
    "except ValueError:\n",
    "    print(\"Error: That was not a valid number.\")\n",
    "except KeyboardInterrupt:\n",
    "    print(\"\\nOperation canceled by the user.\")\n"
   ]
  },
  {
   "cell_type": "code",
   "execution_count": 94,
   "id": "20f09945-f930-4468-9123-93249c8b7397",
   "metadata": {},
   "outputs": [
    {
     "name": "stdout",
     "output_type": "stream",
     "text": [
      "Error: The file was not found.\n",
      "This block executes whether an exception occurred or not.\n"
     ]
    }
   ],
   "source": [
    "try:\n",
    "    with open('example.txt', 'r') as file:\n",
    "        content = file.read()\n",
    "        print(content)\n",
    "except FileNotFoundError:\n",
    "    print(\"Error: The file was not found.\")\n",
    "else:\n",
    "    print(\"The file was read successfully.\")\n",
    "finally:\n",
    "    print(\"This block executes whether an exception occurred or not.\")\n"
   ]
  },
  {
   "cell_type": "code",
   "execution_count": 102,
   "id": "dcb47a14-c8c3-48aa-b145-ef68d168e7e5",
   "metadata": {},
   "outputs": [
    {
     "name": "stdout",
     "output_type": "stream",
     "text": [
      "Line of Employee => Hello Employee how are you\n",
      "\n",
      "Line of Employee => What is your task today\n",
      "\n",
      "Line of Employee => Have a nice day\n",
      "\n",
      "Line of Employee => Now go to your home\n"
     ]
    }
   ],
   "source": [
    "employee_file = open(\"employee.txt\",\"r\")\n",
    "#print(employee_file.read())\n",
    "#print(employee_file.readlines())\n",
    "for employee in employee_file.readlines():\n",
    "    print(\"Line of Employee =>\",employee)\n",
    "employee_file.close()"
   ]
  },
  {
   "cell_type": "code",
   "execution_count": 107,
   "id": "9edc398b-9297-43bc-8ad2-b90a11ccd6ad",
   "metadata": {},
   "outputs": [],
   "source": [
    "emp_file = open(\"employee.txt\",\"a\")\n",
    "emp_file.write(\"\\n Hello Rashmi\")\n",
    "emp_file.close()"
   ]
  },
  {
   "cell_type": "code",
   "execution_count": 109,
   "id": "7d0221f3-04b9-4fa3-8682-71dcd7b74183",
   "metadata": {},
   "outputs": [],
   "source": [
    "emp_file = open(\"utility.py\",\"w\")\n",
    "emp_file.write(\"#Testing\")\n",
    "emp_file.close()"
   ]
  },
  {
   "cell_type": "code",
   "execution_count": 110,
   "id": "320ce85c-41c3-4054-97be-d81a02ab9ce5",
   "metadata": {},
   "outputs": [
    {
     "name": "stdout",
     "output_type": "stream",
     "text": [
      "2\n"
     ]
    }
   ],
   "source": [
    "import utility as u\n",
    "\n",
    "print(u.roll_dice(6))"
   ]
  },
  {
   "cell_type": "code",
   "execution_count": 118,
   "id": "c879c1ab-8d26-4aa3-89b6-080aeb546df0",
   "metadata": {},
   "outputs": [
    {
     "name": "stdout",
     "output_type": "stream",
     "text": [
      "Yashdeep\n"
     ]
    }
   ],
   "source": [
    "class Employee:\n",
    "    def __init__(self,Name,Age,Role,Salary):\n",
    "        self.Name = Name\n",
    "        self.Age = Age\n",
    "        Role = Role\n",
    "        Salary = Salary\n",
    "\n",
    "emp1 = Employee(\"Yashdeep\",23,\"Developer\",11111)\n",
    "print(emp1.Name)"
   ]
  },
  {
   "cell_type": "code",
   "execution_count": 129,
   "id": "a125232d-a9bd-4aa1-bec3-bbed0e850eba",
   "metadata": {},
   "outputs": [
    {
     "name": "stdout",
     "output_type": "stream",
     "text": [
      "1. What is color of Sun?\n",
      " (a) Blue \n",
      " (b) Green \n",
      " (c) Yellow \n",
      " (d) Black\n"
     ]
    },
    {
     "name": "stdin",
     "output_type": "stream",
     "text": [
      "Enter your option:  a\n"
     ]
    },
    {
     "name": "stdout",
     "output_type": "stream",
     "text": [
      "2. What is color of Money?\n",
      " (a) Blue \n",
      " (b) Green \n",
      " (c) Yellow \n",
      " (d) Black\n"
     ]
    },
    {
     "name": "stdin",
     "output_type": "stream",
     "text": [
      "Enter your option:  a\n"
     ]
    },
    {
     "name": "stdout",
     "output_type": "stream",
     "text": [
      "3. What is color of Black Hole?\n",
      " (a) Blue \n",
      " (b) Green \n",
      " (c) Yellow \n",
      " (d) Black\n"
     ]
    },
    {
     "name": "stdin",
     "output_type": "stream",
     "text": [
      "Enter your option:  a\n"
     ]
    },
    {
     "name": "stdout",
     "output_type": "stream",
     "text": [
      "4. What is color of Water?\n",
      " (a) Blue \n",
      " (b) Green \n",
      " (c) Yellow \n",
      " (d) Black\n"
     ]
    },
    {
     "name": "stdin",
     "output_type": "stream",
     "text": [
      "Enter your option:  a\n"
     ]
    },
    {
     "name": "stdout",
     "output_type": "stream",
     "text": [
      "5. What is color of Tree?\n",
      " (a) Blue \n",
      " (b) Green \n",
      " (c) Yellow \n",
      " (d) Black\n"
     ]
    },
    {
     "name": "stdin",
     "output_type": "stream",
     "text": [
      "Enter your option:  a\n"
     ]
    },
    {
     "name": "stdout",
     "output_type": "stream",
     "text": [
      "Your total score is:  1\n",
      "Loser\n"
     ]
    }
   ],
   "source": [
    "from Quant import Quant\n",
    "\n",
    "questions = [\n",
    "    \"1. What is color of Sun?\\n (a) Blue \\n (b) Green \\n (c) Yellow \\n (d) Black\",\n",
    "    \"2. What is color of Money?\\n (a) Blue \\n (b) Green \\n (c) Yellow \\n (d) Black\",\n",
    "    \"3. What is color of Black Hole?\\n (a) Blue \\n (b) Green \\n (c) Yellow \\n (d) Black\",\n",
    "    \"4. What is color of Water?\\n (a) Blue \\n (b) Green \\n (c) Yellow \\n (d) Black\",\n",
    "    \"5. What is color of Tree?\\n (a) Blue \\n (b) Green \\n (c) Yellow \\n (d) Black\"\n",
    "]\n",
    "quants = [\n",
    "    Quant(questions[0],\"c\"),\n",
    "    Quant(questions[1],\"b\"),\n",
    "    Quant(questions[2],\"d\"),\n",
    "    Quant(questions[3],\"a\"),\n",
    "    Quant(questions[4],\"b\"),\n",
    "]\n",
    "ans_set = (\"a\",\"b\",\"c\",\"d\")\n",
    "def run_test(paper):\n",
    "    score = 0\n",
    "    for que in paper:\n",
    "        print(que.Question)\n",
    "        ans = input (\"Enter your option: \")\n",
    "        while ans not in ans_set:\n",
    "            ans = input(\"Enter the correct option\")\n",
    "        if(ans == que.Answer ):\n",
    "            score += 1\n",
    "    return score\n",
    "marks = run_test(quants)\n",
    "print(\"Your total score is: \",marks)\n",
    "if(marks >= 4):\n",
    "    print(\"Great\")\n",
    "\n",
    "elif(marks < 4 and marks >=2):\n",
    "    print(\"Average\")\n",
    "else:\n",
    "    print(\"Loser\")\n"
   ]
  },
  {
   "cell_type": "code",
   "execution_count": 130,
   "id": "c12b6eb6-e05f-48b7-9d4f-da4967c56019",
   "metadata": {},
   "outputs": [
    {
     "name": "stdout",
     "output_type": "stream",
     "text": [
      "Some sound\n",
      "Whiskers says meow!\n"
     ]
    }
   ],
   "source": [
    "class Animal:\n",
    "    def __init__(self, name):\n",
    "        self.name = name\n",
    "\n",
    "    def speak(self):\n",
    "        return \"Some sound\"\n",
    "\n",
    "class Cat(Animal):\n",
    "    def speak(self):\n",
    "        return f\"{self.name} says meow!\"\n",
    "\n",
    "# Creating objects\n",
    "generic_animal = Animal(\"Animal\")\n",
    "print(generic_animal.speak())  \n",
    "\n",
    "my_cat = Cat(\"Whiskers\")\n",
    "print(my_cat.speak())\n"
   ]
  },
  {
   "cell_type": "code",
   "execution_count": 131,
   "id": "f32137cb-cf96-4f98-83e7-eb264a603a95",
   "metadata": {},
   "outputs": [
    {
     "name": "stdout",
     "output_type": "stream",
     "text": [
      "Polly chirps!\n",
      "Fido barks!\n"
     ]
    }
   ],
   "source": [
    "class Bird:\n",
    "    def __init__(self, name):\n",
    "        self.name = name\n",
    "\n",
    "    def speak(self):\n",
    "        return f\"{self.name} chirps!\"\n",
    "\n",
    "class Dog:\n",
    "    def __init__(self, name):\n",
    "        self.name = name\n",
    "\n",
    "    def speak(self):\n",
    "        return f\"{self.name} barks!\"\n",
    "\n",
    "def animal_speak(animal):\n",
    "    print(animal.speak())\n",
    "\n",
    "parrot = Bird(\"Polly\")\n",
    "poodle = Dog(\"Fido\")\n",
    "\n",
    "animal_speak(parrot)  \n",
    "animal_speak(poodle)  \n"
   ]
  },
  {
   "cell_type": "code",
   "execution_count": 134,
   "id": "40e299d5-7672-4ca6-9f03-6a176b97f213",
   "metadata": {},
   "outputs": [
    {
     "name": "stdout",
     "output_type": "stream",
     "text": [
      "150\n",
      "75\n"
     ]
    }
   ],
   "source": [
    "class BankAccount:\n",
    "    def __init__(self, owner, balance=0):\n",
    "        self.owner = owner\n",
    "        self.__balance = balance  # Private attribute\n",
    "\n",
    "    def deposit(self, amount):\n",
    "        if amount > 0:\n",
    "            self.__balance += amount\n",
    "        else:\n",
    "            print(\"Deposit amount must be positive.\")\n",
    "\n",
    "    def withdraw(self, amount):\n",
    "        if amount <= self.__balance:\n",
    "            self.__balance -= amount\n",
    "        else:\n",
    "            print(\"Insufficient funds.\")\n",
    "\n",
    "    def get_balance(self):\n",
    "        return self.__balance\n",
    "\n",
    "account = BankAccount(\"Alice\", 100)\n",
    "account.deposit(50)\n",
    "print(account.get_balance())  # Output: 150\n",
    "account.withdraw(75)\n",
    "print(account.get_balance())  # Output: 75\n",
    "\n",
    "# Trying to access the private attribute\n",
    "# print(account.balance)  # AttributeError: 'BankAccount' object has no attribute '__balance'\n"
   ]
  },
  {
   "cell_type": "code",
   "execution_count": 135,
   "id": "176677cf-f7f7-4a01-95c8-5d26e71a1771",
   "metadata": {},
   "outputs": [
    {
     "name": "stdout",
     "output_type": "stream",
     "text": [
      "Rectangle area: 20\n",
      "Rectangle perimeter: 18\n",
      "Circle area: 28.26\n",
      "Circle perimeter: 18.84\n"
     ]
    }
   ],
   "source": [
    "from abc import ABC, abstractmethod\n",
    "\n",
    "class Shape(ABC):\n",
    "    @abstractmethod\n",
    "    def area(self):\n",
    "        pass\n",
    "\n",
    "    @abstractmethod\n",
    "    def perimeter(self):\n",
    "        pass\n",
    "\n",
    "class Rectangle(Shape):\n",
    "    def __init__(self, width, height):\n",
    "        self.width = width\n",
    "        self.height = height\n",
    "\n",
    "    def area(self):\n",
    "        return self.width * self.height\n",
    "\n",
    "    def perimeter(self):\n",
    "        return 2 * (self.width + self.height)\n",
    "\n",
    "class Circle(Shape):\n",
    "    def __init__(self, radius):\n",
    "        self.radius = radius\n",
    "\n",
    "    def area(self):\n",
    "        return 3.14 * self.radius ** 2\n",
    "\n",
    "    def perimeter(self):\n",
    "        return 2 * 3.14 * self.radius\n",
    "\n",
    "\n",
    "rect = Rectangle(4, 5)\n",
    "print(f\"Rectangle area: {rect.area()}\")  \n",
    "print(f\"Rectangle perimeter: {rect.perimeter()}\")  \n",
    "circ = Circle(3)\n",
    "print(f\"Circle area: {circ.area()}\") \n",
    "print(f\"Circle perimeter: {circ.perimeter()}\") \n"
   ]
  },
  {
   "cell_type": "code",
   "execution_count": 136,
   "id": "11025856-419f-45cc-ac36-864c0cd38174",
   "metadata": {},
   "outputs": [
    {
     "name": "stdout",
     "output_type": "stream",
     "text": [
      "Flying\n",
      "Swimming\n"
     ]
    }
   ],
   "source": [
    "class Flyer:\n",
    "    def fly(self):\n",
    "        return \"Flying\"\n",
    "\n",
    "class Swimmer:\n",
    "    def swim(self):\n",
    "        return \"Swimming\"\n",
    "\n",
    "class FlyingFish(Flyer, Swimmer):\n",
    "    pass\n",
    "\n",
    "fish = FlyingFish()\n",
    "print(fish.fly())  \n",
    "print(fish.swim())\n"
   ]
  },
  {
   "cell_type": "code",
   "execution_count": 137,
   "id": "c48844d5-2342-4bd3-bf32-b6cf7243c91b",
   "metadata": {},
   "outputs": [
    {
     "name": "stdout",
     "output_type": "stream",
     "text": [
      "Parent's display method\n",
      "Child's display method\n"
     ]
    }
   ],
   "source": [
    "class Parent:\n",
    "    def display(self):\n",
    "        print(\"Parent's display method\")\n",
    "\n",
    "class Child(Parent):\n",
    "    def display(self):\n",
    "        print(\"Child's display method\")\n",
    "\n",
    "\n",
    "parent = Parent()\n",
    "parent.display()  \n",
    "\n",
    "child = Child()\n",
    "child.display() \n"
   ]
  },
  {
   "cell_type": "code",
   "execution_count": 138,
   "id": "110a3181-e411-47df-9e04-69a1fa72dfa9",
   "metadata": {},
   "outputs": [
    {
     "name": "stdout",
     "output_type": "stream",
     "text": [
      "5\n",
      "9\n"
     ]
    }
   ],
   "source": [
    "class Math:\n",
    "    def add(self, a, b, c=0):\n",
    "        return a + b + c\n",
    "\n",
    "math = Math()\n",
    "print(math.add(2, 3))      \n",
    "print(math.add(2, 3, 4))  "
   ]
  },
  {
   "cell_type": "code",
   "execution_count": null,
   "id": "c56f686d-283b-4f4e-ba9f-667b8004023e",
   "metadata": {},
   "outputs": [],
   "source": []
  }
 ],
 "metadata": {
  "kernelspec": {
   "display_name": "Python 3 (ipykernel)",
   "language": "python",
   "name": "python3"
  },
  "language_info": {
   "codemirror_mode": {
    "name": "ipython",
    "version": 3
   },
   "file_extension": ".py",
   "mimetype": "text/x-python",
   "name": "python",
   "nbconvert_exporter": "python",
   "pygments_lexer": "ipython3",
   "version": "3.12.4"
  }
 },
 "nbformat": 4,
 "nbformat_minor": 5
}
